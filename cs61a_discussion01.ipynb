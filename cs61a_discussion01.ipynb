{
 "cells": [
  {
   "cell_type": "markdown",
   "id": "d08c7744",
   "metadata": {},
   "source": [
    "### Boolean Operators\n",
    "\n",
    "- **not** returns the opposite boolean value of the following expression, and will always return either **True** or **False**.\n",
    "- **and** evaluates expressions in order and stops evaluating (short-circuits) once it reaches the **first falsy** value, and then returns it. If all values evaluate to a truthy value, the **last value** is returned.\n",
    "- **or** evalutes expressions in order and short-circuits at the **first truthy** value and returns it. If all values evaluate to a falsy value, the **last value** is returned.\n"
   ]
  },
  {
   "cell_type": "code",
   "execution_count": 2,
   "id": "616ada3c",
   "metadata": {},
   "outputs": [
    {
     "data": {
      "text/plain": [
       "True"
      ]
     },
     "execution_count": 2,
     "metadata": {},
     "output_type": "execute_result"
    }
   ],
   "source": [
    "not None "
   ]
  },
  {
   "cell_type": "code",
   "execution_count": 3,
   "id": "930b32c1",
   "metadata": {},
   "outputs": [
    {
     "data": {
      "text/plain": [
       "False"
      ]
     },
     "execution_count": 3,
     "metadata": {},
     "output_type": "execute_result"
    }
   ],
   "source": [
    "not True"
   ]
  },
  {
   "cell_type": "code",
   "execution_count": 4,
   "id": "343b176c",
   "metadata": {},
   "outputs": [
    {
     "data": {
      "text/plain": [
       "0"
      ]
     },
     "execution_count": 4,
     "metadata": {},
     "output_type": "execute_result"
    }
   ],
   "source": [
    "-1 and 0 and 1"
   ]
  },
  {
   "cell_type": "code",
   "execution_count": 5,
   "id": "0edddf0d",
   "metadata": {},
   "outputs": [
    {
     "data": {
      "text/plain": [
       "0"
      ]
     },
     "execution_count": 5,
     "metadata": {},
     "output_type": "execute_result"
    }
   ],
   "source": [
    "-1 and -1 and 0 \n",
    "# return first falsy value "
   ]
  },
  {
   "cell_type": "code",
   "execution_count": 6,
   "id": "13479b36",
   "metadata": {},
   "outputs": [
    {
     "data": {
      "text/plain": [
       "-1"
      ]
     },
     "execution_count": 6,
     "metadata": {},
     "output_type": "execute_result"
    }
   ],
   "source": [
    "-1 or 0 or 1\n",
    "#return the first trusy value"
   ]
  },
  {
   "cell_type": "markdown",
   "id": "8363c815",
   "metadata": {},
   "source": [
    "## Q1: Jacket Weather?\n",
    "\n",
    "Alfonso will only wear a jacket outside if it is below 60 degrees or it is raining.\n",
    "\n",
    "Write a function that takes in the current temperature and a boolean value telling if it is raining. This function should return True if Alfonso will wear a jacket and False otherwise.\n",
    "\n",
    "First, try solving this problem using an if statement."
   ]
  },
  {
   "cell_type": "code",
   "execution_count": 10,
   "id": "e69213f8",
   "metadata": {},
   "outputs": [],
   "source": [
    "def wears_jacket_with_if(temp, raining):\n",
    "    \"\"\"\n",
    "    >>> wears_jacket_with_if(90, False)\n",
    "    False\n",
    "    >>> wears_jacket_with_if(40, False)\n",
    "    True\n",
    "    >>> wears_jacket_with_if(100, True)\n",
    "    True\n",
    "    \"\"\"\n",
    "    if temp <60 or raining ==True:\n",
    "        return True\n",
    "    else:\n",
    "        return False\n",
    "    \n",
    "    "
   ]
  },
  {
   "cell_type": "code",
   "execution_count": 14,
   "id": "aaa33405",
   "metadata": {},
   "outputs": [
    {
     "data": {
      "text/plain": [
       "False"
      ]
     },
     "execution_count": 14,
     "metadata": {},
     "output_type": "execute_result"
    }
   ],
   "source": [
    "wears_jacket_with_if(100, False)\n"
   ]
  },
  {
   "cell_type": "markdown",
   "id": "d3ff7674",
   "metadata": {},
   "source": [
    "Note that we’ll either return True or False based on a single condition, whose truthiness value will also be either True or False. Knowing this, try to write this function using a single line"
   ]
  },
  {
   "cell_type": "code",
   "execution_count": 13,
   "id": "ae976f58",
   "metadata": {},
   "outputs": [],
   "source": [
    "def wears_jacket(temp, raining):\n",
    "    \"*** YOUR CODE HERE ***\"\n",
    "    return temp<60 or raining == True\n"
   ]
  },
  {
   "cell_type": "code",
   "execution_count": 15,
   "id": "ead2371e",
   "metadata": {},
   "outputs": [
    {
     "data": {
      "text/plain": [
       "False"
      ]
     },
     "execution_count": 15,
     "metadata": {},
     "output_type": "execute_result"
    }
   ],
   "source": [
    "wears_jacket(100, False)\n"
   ]
  },
  {
   "cell_type": "markdown",
   "id": "86b89e79",
   "metadata": {},
   "source": [
    "## Q2: Case Conundrum\n",
    "\n",
    "In this question, we will explore the difference between if and elif.\n",
    "\n",
    "What is the result of evaluating the following code?"
   ]
  },
  {
   "cell_type": "code",
   "execution_count": 16,
   "id": "c8087cba",
   "metadata": {},
   "outputs": [],
   "source": [
    "def special_case():\n",
    "    x = 10\n",
    "    if x > 0:\n",
    "        x += 2\n",
    "    elif x < 13:\n",
    "        x += 3\n",
    "    elif x % 2 == 1:\n",
    "        x += 4\n",
    "    return x\n",
    "\n"
   ]
  },
  {
   "cell_type": "code",
   "execution_count": 17,
   "id": "8426f18b",
   "metadata": {},
   "outputs": [
    {
     "data": {
      "text/plain": [
       "12"
      ]
     },
     "execution_count": 17,
     "metadata": {},
     "output_type": "execute_result"
    }
   ],
   "source": [
    "special_case()\n",
    "#Your Answer:"
   ]
  },
  {
   "cell_type": "code",
   "execution_count": 18,
   "id": "9761a3fa",
   "metadata": {},
   "outputs": [
    {
     "data": {
      "text/plain": [
       "19"
      ]
     },
     "execution_count": 18,
     "metadata": {},
     "output_type": "execute_result"
    }
   ],
   "source": [
    "def just_in_case():\n",
    "    x = 10\n",
    "    if x > 0:\n",
    "        x += 2\n",
    "    if x < 13:\n",
    "        x += 3\n",
    "    if x % 2 == 1:\n",
    "        x += 4\n",
    "    return x\n",
    "\n",
    "just_in_case()"
   ]
  },
  {
   "cell_type": "code",
   "execution_count": 19,
   "id": "3657d3e4",
   "metadata": {},
   "outputs": [
    {
     "data": {
      "text/plain": [
       "12"
      ]
     },
     "execution_count": 19,
     "metadata": {},
     "output_type": "execute_result"
    }
   ],
   "source": [
    "def case_in_point():\n",
    "    x = 10\n",
    "    if x > 0:\n",
    "        return x + 2\n",
    "    if x < 13:\n",
    "        return x + 3\n",
    "    if x % 2 == 1:\n",
    "        return x + 4\n",
    "    return x\n",
    "\n",
    "case_in_point()"
   ]
  },
  {
   "cell_type": "markdown",
   "id": "51188444",
   "metadata": {},
   "source": [
    "Which of these code snippets result in the same output, and why? Based on your findings, when do you think using a series of if statements has the same effect as using both if and elif cases?"
   ]
  },
  {
   "cell_type": "markdown",
   "id": "ce6ff3ec",
   "metadata": {},
   "source": [
    "*special_case() and case_in_point() showed the same result since they all return the final x with only the result of the first if satement.*\n",
    "\n",
    "*While the just_in_case() passed all the three if statement and returned the value of the last if statement.*\n",
    "\n",
    "*When we combine if statements with return inside the suite of statements, it has the same effect as using both if and elif cases.*\n"
   ]
  },
  {
   "cell_type": "markdown",
   "id": "8636e5b9",
   "metadata": {},
   "source": [
    "## Q3: If Function vs Statement\n",
    "Now that we've learned about how if statements work, let's see if we can write a function that behaves the same as an if statement.\n",
    "\n"
   ]
  },
  {
   "cell_type": "code",
   "execution_count": 28,
   "id": "0e0cec09",
   "metadata": {},
   "outputs": [],
   "source": [
    "def if_function(condition, true_result, false_result):\n",
    "    \"\"\"Return true_result if condition is a true value, and\n",
    "    false_result otherwise.\n",
    "\n",
    "    >>> if_function(True, 2, 3)\n",
    "    2\n",
    "    >>> if_function(False, 2, 3)\n",
    "    3\n",
    "    >>> if_function(3==2, 'equal', 'not equal')\n",
    "    'not equal'\n",
    "    >>> if_function(3>2, 'bigger', 'smaller')\n",
    "    'bigger'\n",
    "    \"\"\"\n",
    "    if condition:\n",
    "        return true_result\n",
    "    else:\n",
    "        return false_result"
   ]
  },
  {
   "cell_type": "markdown",
   "id": "d20e89d2",
   "metadata": {},
   "source": [
    "Despite the doctests above, this function actually does not do the same thing as an if statement in all cases.\n",
    "\n",
    "To demonstrate this, we want to find a case where this function will behave differently from an if statement. To do so in this problem, implement the following,\n",
    "\n",
    "cond: This should act as the \"condition\" of the \"if\".\n",
    "\n",
    "true_func: This should represent what we would want the result of the \"if\" to be in the case that the \"condition\" is truthy.\n",
    "\n",
    "false_func: This should represent what we would want the result of the \"if\" to be in the case that the \"condition\" is falsy.\n",
    "\n",
    "so that with_if_function does not behave the same as with_if_statement, namely as specified in their doctests:\n",
    "\n",
    "When with_if_statement is called, we print out 61A.\n",
    "\n",
    "When with_if_function is called, we print out both Welcome to and 61A on separate lines.\n",
    "\n",
    "Implement cond, true_func, and false_func below."
   ]
  },
  {
   "cell_type": "code",
   "execution_count": 29,
   "id": "5c709a1a",
   "metadata": {},
   "outputs": [],
   "source": [
    "def with_if_statement():\n",
    "    \"\"\"\n",
    "    >>> result = with_if_statement()\n",
    "    61A\n",
    "    >>> print(result)\n",
    "    None\n",
    "    \"\"\"\n",
    "    if cond():\n",
    "        return true_func()\n",
    "    else:\n",
    "        return false_func()\n",
    "\n",
    "def with_if_function():\n",
    "    \"\"\"\n",
    "    >>> result = with_if_function()\n",
    "    Welcome to\n",
    "    61A\n",
    "    >>> print(result)\n",
    "    None\n",
    "    \"\"\"\n",
    "    return if_function(cond(), true_func(), false_func())\n",
    "\n",
    "def cond():\n",
    "    \"*** YOUR CODE HERE ***\"\n",
    "    return False\n",
    "    \n",
    "\n",
    "def true_func():\n",
    "    \"*** YOUR CODE HERE ***\"\n",
    "    print('Welcome to')\n",
    "    \n",
    "\n",
    "def false_func():\n",
    "    \"*** YOUR CODE HERE ***\"\n",
    "    print('61A')"
   ]
  },
  {
   "cell_type": "code",
   "execution_count": 30,
   "id": "1413b82e",
   "metadata": {},
   "outputs": [
    {
     "name": "stdout",
     "output_type": "stream",
     "text": [
      "61A\n"
     ]
    }
   ],
   "source": [
    "result = with_if_statement()"
   ]
  },
  {
   "cell_type": "code",
   "execution_count": 31,
   "id": "79cd3671",
   "metadata": {},
   "outputs": [
    {
     "name": "stdout",
     "output_type": "stream",
     "text": [
      "None\n"
     ]
    }
   ],
   "source": [
    "print(result)"
   ]
  },
  {
   "cell_type": "code",
   "execution_count": 32,
   "id": "0397e479",
   "metadata": {},
   "outputs": [
    {
     "name": "stdout",
     "output_type": "stream",
     "text": [
      "Welcome to\n",
      "61A\n"
     ]
    }
   ],
   "source": [
    "result = with_if_function()"
   ]
  },
  {
   "cell_type": "code",
   "execution_count": 33,
   "id": "1ddc631e",
   "metadata": {},
   "outputs": [
    {
     "name": "stdout",
     "output_type": "stream",
     "text": [
      "None\n"
     ]
    }
   ],
   "source": [
    "print(result)"
   ]
  },
  {
   "cell_type": "markdown",
   "id": "86429b54",
   "metadata": {},
   "source": [
    "## Q4: Square So Slow\n",
    "What is the result of evaluating the following code?"
   ]
  },
  {
   "cell_type": "code",
   "execution_count": 34,
   "id": "239337c8",
   "metadata": {},
   "outputs": [
    {
     "ename": "KeyboardInterrupt",
     "evalue": "",
     "output_type": "error",
     "traceback": [
      "\u001b[0;31m---------------------------------------------------------------------------\u001b[0m",
      "\u001b[0;31mKeyboardInterrupt\u001b[0m                         Traceback (most recent call last)",
      "\u001b[0;32m/var/folders/gd/ldv13fss0nzclxwbh4lsvzg00000gn/T/ipykernel_7645/112300056.py\u001b[0m in \u001b[0;36m<module>\u001b[0;34m\u001b[0m\n\u001b[1;32m      9\u001b[0m     \u001b[0;32mreturn\u001b[0m \u001b[0mx\u001b[0m \u001b[0;34m/\u001b[0m \u001b[0;36m0\u001b[0m\u001b[0;34m\u001b[0m\u001b[0;34m\u001b[0m\u001b[0m\n\u001b[1;32m     10\u001b[0m \u001b[0;34m\u001b[0m\u001b[0m\n\u001b[0;32m---> 11\u001b[0;31m \u001b[0msquare\u001b[0m\u001b[0;34m(\u001b[0m\u001b[0mso_slow\u001b[0m\u001b[0;34m(\u001b[0m\u001b[0;36m5\u001b[0m\u001b[0;34m)\u001b[0m\u001b[0;34m)\u001b[0m\u001b[0;34m\u001b[0m\u001b[0;34m\u001b[0m\u001b[0m\n\u001b[0m",
      "\u001b[0;32m/var/folders/gd/ldv13fss0nzclxwbh4lsvzg00000gn/T/ipykernel_7645/112300056.py\u001b[0m in \u001b[0;36mso_slow\u001b[0;34m(num)\u001b[0m\n\u001b[1;32m      5\u001b[0m \u001b[0;32mdef\u001b[0m \u001b[0mso_slow\u001b[0m\u001b[0;34m(\u001b[0m\u001b[0mnum\u001b[0m\u001b[0;34m)\u001b[0m\u001b[0;34m:\u001b[0m\u001b[0;34m\u001b[0m\u001b[0;34m\u001b[0m\u001b[0m\n\u001b[1;32m      6\u001b[0m     \u001b[0mx\u001b[0m \u001b[0;34m=\u001b[0m \u001b[0mnum\u001b[0m\u001b[0;34m\u001b[0m\u001b[0;34m\u001b[0m\u001b[0m\n\u001b[0;32m----> 7\u001b[0;31m     \u001b[0;32mwhile\u001b[0m \u001b[0mx\u001b[0m \u001b[0;34m>\u001b[0m \u001b[0;36m0\u001b[0m\u001b[0;34m:\u001b[0m\u001b[0;34m\u001b[0m\u001b[0;34m\u001b[0m\u001b[0m\n\u001b[0m\u001b[1;32m      8\u001b[0m         \u001b[0mx\u001b[0m\u001b[0;34m=\u001b[0m\u001b[0mx\u001b[0m\u001b[0;34m+\u001b[0m\u001b[0;36m1\u001b[0m\u001b[0;34m\u001b[0m\u001b[0;34m\u001b[0m\u001b[0m\n\u001b[1;32m      9\u001b[0m     \u001b[0;32mreturn\u001b[0m \u001b[0mx\u001b[0m \u001b[0;34m/\u001b[0m \u001b[0;36m0\u001b[0m\u001b[0;34m\u001b[0m\u001b[0;34m\u001b[0m\u001b[0m\n",
      "\u001b[0;31mKeyboardInterrupt\u001b[0m: "
     ]
    }
   ],
   "source": [
    "def square(x):\n",
    "    print(\"here!\")\n",
    "    return x * x\n",
    "\n",
    "def so_slow(num):\n",
    "    x = num\n",
    "    while x > 0:\n",
    "        x=x+1\n",
    "    return x / 0\n",
    "\n",
    "square(so_slow(5))"
   ]
  },
  {
   "cell_type": "markdown",
   "id": "d2d7626a",
   "metadata": {},
   "source": [
    "x will be binded with num=10 inside the while loop every time."
   ]
  },
  {
   "cell_type": "markdown",
   "id": "1372e2c0",
   "metadata": {},
   "source": [
    "## Q5: Is Prime?\n",
    "Write a function that returns True if a positive integer n is a prime number and False otherwise.\n",
    "\n",
    "A prime number n is a number that is not divisible by any numbers other than 1 and n itself. For example, 13 is prime, since it is only divisible by 1 and 13, but 14 is not, since it is divisible by 1, 2, 7, and 14.\n",
    "\n"
   ]
  },
  {
   "cell_type": "code",
   "execution_count": 55,
   "id": "0c2d749b",
   "metadata": {},
   "outputs": [],
   "source": [
    "def is_prime(n):\n",
    "    \"\"\"\n",
    "    >>> is_prime(10)\n",
    "    False\n",
    "    >>> is_prime(7)\n",
    "    True\n",
    "    \"\"\"\n",
    "    \"*** YOUR CODE HERE ***\"\n",
    "    assert n>1,'n should be greater than one'\n",
    "    if n==2 :\n",
    "        return True\n",
    "    for i in range(2,n):\n",
    "        while n % i ==0:\n",
    "            return False\n",
    "        return True\n"
   ]
  },
  {
   "cell_type": "code",
   "execution_count": 56,
   "id": "3a9d3879",
   "metadata": {},
   "outputs": [
    {
     "data": {
      "text/plain": [
       "True"
      ]
     },
     "execution_count": 56,
     "metadata": {},
     "output_type": "execute_result"
    }
   ],
   "source": [
    "is_prime(2)"
   ]
  },
  {
   "cell_type": "markdown",
   "id": "abdd7f67",
   "metadata": {},
   "source": [
    "## Q6: Fizzbuzz\n",
    "Implement the fizzbuzz sequence, which prints out a single statement for each number from 1 to n. For a number i,\n",
    "\n",
    "If i is divisible by 3 only, then we print \"fizz\".\n",
    "If i is divisible by 5 only, then we print \"buzz\".\n",
    "If i is divisible by both 3 and 5, then we print \"fizzbuzz\".\n",
    "Otherwise, we print the number i by itself.\n",
    "Implement fizzbuzz(n) here:"
   ]
  },
  {
   "cell_type": "code",
   "execution_count": 61,
   "id": "575fc0cb",
   "metadata": {},
   "outputs": [],
   "source": [
    "def fizzbuzz(n):\n",
    "    \"\"\"\n",
    "    >>> result = fizzbuzz(16)\n",
    "    1\n",
    "    2\n",
    "    fizz\n",
    "    4\n",
    "    buzz\n",
    "    fizz\n",
    "    7\n",
    "    8\n",
    "    fizz\n",
    "    buzz\n",
    "    11\n",
    "    fizz\n",
    "    13\n",
    "    14\n",
    "    fizzbuzz\n",
    "    16\n",
    "    >>> result == None\n",
    "    True\n",
    "    \"\"\"\n",
    "    \"*** YOUR CODE HERE ***\"\n",
    "    for i in range(1,n+1):\n",
    "        if (i % 3 ==0)and( i%5!=0 ) :\n",
    "            print(\"fizz\")\n",
    "        elif (i%5==0) and (i%3!= 0):\n",
    "            print (\"buzz\")\n",
    "        elif i%5==0 and i % 3 ==0:\n",
    "            print ('fizzbuzz')\n",
    "        else: \n",
    "            print(i)\n",
    "    \n"
   ]
  },
  {
   "cell_type": "code",
   "execution_count": 62,
   "id": "f6e1ceeb",
   "metadata": {},
   "outputs": [
    {
     "name": "stdout",
     "output_type": "stream",
     "text": [
      "1\n",
      "2\n",
      "fizz\n",
      "4\n",
      "buzz\n",
      "fizz\n",
      "7\n",
      "8\n",
      "fizz\n",
      "buzz\n",
      "11\n",
      "fizz\n",
      "13\n",
      "14\n",
      "fizzbuzz\n",
      "16\n"
     ]
    }
   ],
   "source": [
    "result = fizzbuzz(16)"
   ]
  },
  {
   "cell_type": "code",
   "execution_count": 63,
   "id": "aace0b45",
   "metadata": {},
   "outputs": [
    {
     "data": {
      "text/plain": [
       "True"
      ]
     },
     "execution_count": 63,
     "metadata": {},
     "output_type": "execute_result"
    }
   ],
   "source": [
    "result == None"
   ]
  },
  {
   "cell_type": "code",
   "execution_count": 64,
   "id": "70edb7dd",
   "metadata": {},
   "outputs": [],
   "source": [
    "x=3\n",
    "x **= 2"
   ]
  },
  {
   "cell_type": "code",
   "execution_count": 65,
   "id": "9f0dea92",
   "metadata": {},
   "outputs": [
    {
     "data": {
      "text/plain": [
       "9"
      ]
     },
     "execution_count": 65,
     "metadata": {},
     "output_type": "execute_result"
    }
   ],
   "source": [
    "x\n"
   ]
  },
  {
   "cell_type": "code",
   "execution_count": 67,
   "id": "2dd5c263",
   "metadata": {},
   "outputs": [],
   "source": [
    "x**=2"
   ]
  },
  {
   "cell_type": "code",
   "execution_count": 68,
   "id": "dfd4cb05",
   "metadata": {},
   "outputs": [
    {
     "data": {
      "text/plain": [
       "81"
      ]
     },
     "execution_count": 68,
     "metadata": {},
     "output_type": "execute_result"
    }
   ],
   "source": [
    "x"
   ]
  },
  {
   "cell_type": "code",
   "execution_count": 69,
   "id": "57b51f85",
   "metadata": {},
   "outputs": [],
   "source": [
    "x=2\n",
    "x**=3"
   ]
  },
  {
   "cell_type": "code",
   "execution_count": 70,
   "id": "0cc2ec23",
   "metadata": {},
   "outputs": [
    {
     "data": {
      "text/plain": [
       "8"
      ]
     },
     "execution_count": 70,
     "metadata": {},
     "output_type": "execute_result"
    }
   ],
   "source": [
    "x"
   ]
  },
  {
   "cell_type": "code",
   "execution_count": null,
   "id": "174b2a15",
   "metadata": {},
   "outputs": [],
   "source": []
  }
 ],
 "metadata": {
  "kernelspec": {
   "display_name": "Python 3 (ipykernel)",
   "language": "python",
   "name": "python3"
  },
  "language_info": {
   "codemirror_mode": {
    "name": "ipython",
    "version": 3
   },
   "file_extension": ".py",
   "mimetype": "text/x-python",
   "name": "python",
   "nbconvert_exporter": "python",
   "pygments_lexer": "ipython3",
   "version": "3.9.6"
  }
 },
 "nbformat": 4,
 "nbformat_minor": 5
}
