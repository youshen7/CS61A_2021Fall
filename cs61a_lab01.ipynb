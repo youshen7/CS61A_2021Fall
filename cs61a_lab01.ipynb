{
 "cells": [
  {
   "cell_type": "markdown",
   "id": "d0b9cc14",
   "metadata": {},
   "source": [
    "**Q1: WWPD: Control**\n"
   ]
  },
  {
   "cell_type": "code",
   "execution_count": 24,
   "id": "1b5b53b2",
   "metadata": {},
   "outputs": [],
   "source": [
    "def xk(c, d):\n",
    "    if c==4:\n",
    "        return 6\n",
    "    elif d>=4:\n",
    "        return 6+7+c\n",
    "    else:\n",
    "        return 25"
   ]
  },
  {
   "cell_type": "code",
   "execution_count": 25,
   "id": "b75fd215",
   "metadata": {},
   "outputs": [
    {
     "data": {
      "text/plain": [
       "23"
      ]
     },
     "execution_count": 25,
     "metadata": {},
     "output_type": "execute_result"
    }
   ],
   "source": [
    "xk(10,10)"
   ]
  },
  {
   "cell_type": "code",
   "execution_count": 26,
   "id": "8b2e508c",
   "metadata": {},
   "outputs": [
    {
     "data": {
      "text/plain": [
       "23"
      ]
     },
     "execution_count": 26,
     "metadata": {},
     "output_type": "execute_result"
    }
   ],
   "source": [
    "xk(10, 6)"
   ]
  },
  {
   "cell_type": "code",
   "execution_count": 27,
   "id": "b3bca51a",
   "metadata": {},
   "outputs": [
    {
     "data": {
      "text/plain": [
       "6"
      ]
     },
     "execution_count": 27,
     "metadata": {},
     "output_type": "execute_result"
    }
   ],
   "source": [
    "xk(4, 6)"
   ]
  },
  {
   "cell_type": "code",
   "execution_count": 28,
   "id": "400d74d5",
   "metadata": {},
   "outputs": [
    {
     "data": {
      "text/plain": [
       "25"
      ]
     },
     "execution_count": 28,
     "metadata": {},
     "output_type": "execute_result"
    }
   ],
   "source": [
    "xk(0, 0)"
   ]
  },
  {
   "cell_type": "code",
   "execution_count": null,
   "id": "4fc7863f",
   "metadata": {},
   "outputs": [],
   "source": []
  },
  {
   "cell_type": "code",
   "execution_count": 29,
   "id": "c7fc3a2e",
   "metadata": {},
   "outputs": [],
   "source": [
    "def how_big(x):\n",
    "...     if x > 10:\n",
    "...         print('huge')\n",
    "...     elif x > 5:\n",
    "...         return 'big'\n",
    "...     elif x > 0:\n",
    "...         print('small')\n",
    "...     else:\n",
    "...         print(\"nothing\")"
   ]
  },
  {
   "cell_type": "code",
   "execution_count": 33,
   "id": "7728a25e",
   "metadata": {},
   "outputs": [
    {
     "data": {
      "text/plain": [
       "'big'"
      ]
     },
     "execution_count": 33,
     "metadata": {},
     "output_type": "execute_result"
    }
   ],
   "source": [
    ">>> how_big(7)"
   ]
  },
  {
   "cell_type": "code",
   "execution_count": 32,
   "id": "d6f23e83",
   "metadata": {},
   "outputs": [
    {
     "name": "stdout",
     "output_type": "stream",
     "text": [
      "huge\n",
      "small\n",
      "nothing\n"
     ]
    }
   ],
   "source": [
    ">>> how_big(12)\n",
    "\n",
    ">>> how_big(1)\n",
    "\n",
    ">>> how_big(-1)"
   ]
  },
  {
   "cell_type": "code",
   "execution_count": 34,
   "id": "f2c7469c",
   "metadata": {},
   "outputs": [
    {
     "name": "stdout",
     "output_type": "stream",
     "text": [
      "2\n",
      "1\n",
      "0\n",
      "-1\n"
     ]
    }
   ],
   "source": [
    ">>> n = 3\n",
    ">>> while n >= 0:\n",
    "...     n -= 1\n",
    "...     print(n)\n"
   ]
  },
  {
   "cell_type": "markdown",
   "id": "c0446e36",
   "metadata": {},
   "source": [
    "Hint: Make sure your while loop conditions eventually evaluate to a false value, or they'll never stop! Typing Ctrl-C will stop infinite loops in the interpreter."
   ]
  },
  {
   "cell_type": "markdown",
   "id": "d6f02782",
   "metadata": {},
   "source": [
    ">>> positive = 28\n",
    ">>> while positive:\n",
    "...    print(\"positive?\")\n",
    "...    positive -= 3"
   ]
  },
  {
   "cell_type": "markdown",
   "id": "ec377293",
   "metadata": {},
   "source": [
    ">>> positive = -9\n",
    ">>> negative = -12\n",
    ">>> while negative:\n",
    "...    if positive:\n",
    "...        print(negative)\n",
    "...    positive += 3\n",
    "...    negative += 3"
   ]
  },
  {
   "cell_type": "markdown",
   "id": "2bee30e1",
   "metadata": {},
   "source": [
    "**Q2: WWPD: Veritasiness**\n"
   ]
  },
  {
   "cell_type": "code",
   "execution_count": 36,
   "id": "d2ef29bb",
   "metadata": {},
   "outputs": [
    {
     "data": {
      "text/plain": [
       "13"
      ]
     },
     "execution_count": 36,
     "metadata": {},
     "output_type": "execute_result"
    }
   ],
   "source": [
    ">>> True and 13"
   ]
  },
  {
   "cell_type": "code",
   "execution_count": 37,
   "id": "dd39bd6b",
   "metadata": {},
   "outputs": [
    {
     "data": {
      "text/plain": [
       "0"
      ]
     },
     "execution_count": 37,
     "metadata": {},
     "output_type": "execute_result"
    }
   ],
   "source": [
    ">>> False or 0"
   ]
  },
  {
   "cell_type": "code",
   "execution_count": 38,
   "id": "b1bd18e9",
   "metadata": {},
   "outputs": [
    {
     "data": {
      "text/plain": [
       "False"
      ]
     },
     "execution_count": 38,
     "metadata": {},
     "output_type": "execute_result"
    }
   ],
   "source": [
    ">>> not 10"
   ]
  },
  {
   "cell_type": "code",
   "execution_count": 40,
   "id": "40dad49f",
   "metadata": {},
   "outputs": [
    {
     "data": {
      "text/plain": [
       "True"
      ]
     },
     "execution_count": 40,
     "metadata": {},
     "output_type": "execute_result"
    }
   ],
   "source": [
    ">>> not None"
   ]
  },
  {
   "cell_type": "code",
   "execution_count": 42,
   "id": "77b07946",
   "metadata": {},
   "outputs": [
    {
     "ename": "ZeroDivisionError",
     "evalue": "division by zero",
     "output_type": "error",
     "traceback": [
      "\u001b[0;31m---------------------------------------------------------------------------\u001b[0m",
      "\u001b[0;31mZeroDivisionError\u001b[0m                         Traceback (most recent call last)",
      "\u001b[0;32m/var/folders/gd/ldv13fss0nzclxwbh4lsvzg00000gn/T/ipykernel_3740/3191841749.py\u001b[0m in \u001b[0;36m<module>\u001b[0;34m\u001b[0m\n\u001b[0;32m----> 1\u001b[0;31m \u001b[0;32mTrue\u001b[0m \u001b[0;32mand\u001b[0m \u001b[0;36m1\u001b[0m \u001b[0;34m/\u001b[0m \u001b[0;36m0\u001b[0m \u001b[0;32mand\u001b[0m \u001b[0;32mFalse\u001b[0m\u001b[0;34m\u001b[0m\u001b[0;34m\u001b[0m\u001b[0m\n\u001b[0m",
      "\u001b[0;31mZeroDivisionError\u001b[0m: division by zero"
     ]
    }
   ],
   "source": [
    ">>> True and 1 / 0 and False"
   ]
  },
  {
   "cell_type": "code",
   "execution_count": 43,
   "id": "690530c9",
   "metadata": {},
   "outputs": [
    {
     "data": {
      "text/plain": [
       "0"
      ]
     },
     "execution_count": 43,
     "metadata": {},
     "output_type": "execute_result"
    }
   ],
   "source": [
    ">>> True and 0"
   ]
  },
  {
   "cell_type": "code",
   "execution_count": 44,
   "id": "3a7e6ef8",
   "metadata": {},
   "outputs": [
    {
     "data": {
      "text/plain": [
       "True"
      ]
     },
     "execution_count": 44,
     "metadata": {},
     "output_type": "execute_result"
    }
   ],
   "source": [
    ">>> True or 1 / 0 or False"
   ]
  },
  {
   "cell_type": "code",
   "execution_count": 45,
   "id": "fdbf362b",
   "metadata": {},
   "outputs": [
    {
     "data": {
      "text/plain": [
       "1"
      ]
     },
     "execution_count": 45,
     "metadata": {},
     "output_type": "execute_result"
    }
   ],
   "source": [
    ">>> False or 1"
   ]
  },
  {
   "cell_type": "code",
   "execution_count": 46,
   "id": "75975354",
   "metadata": {},
   "outputs": [
    {
     "data": {
      "text/plain": [
       "15"
      ]
     },
     "execution_count": 46,
     "metadata": {},
     "output_type": "execute_result"
    }
   ],
   "source": [
    ">>> 1 and 3 and 6 and 10 and 15"
   ]
  },
  {
   "cell_type": "code",
   "execution_count": 47,
   "id": "39c22204",
   "metadata": {},
   "outputs": [
    {
     "data": {
      "text/plain": [
       "True"
      ]
     },
     "execution_count": 47,
     "metadata": {},
     "output_type": "execute_result"
    }
   ],
   "source": [
    ">>> -1 and 1 > 0"
   ]
  },
  {
   "cell_type": "code",
   "execution_count": 49,
   "id": "412ac6b6",
   "metadata": {},
   "outputs": [
    {
     "data": {
      "text/plain": [
       "2"
      ]
     },
     "execution_count": 49,
     "metadata": {},
     "output_type": "execute_result"
    }
   ],
   "source": [
    ">>> 0 or False or 2 or 1 / 0"
   ]
  },
  {
   "cell_type": "code",
   "execution_count": 50,
   "id": "de6cb776",
   "metadata": {},
   "outputs": [
    {
     "data": {
      "text/plain": [
       "True"
      ]
     },
     "execution_count": 50,
     "metadata": {},
     "output_type": "execute_result"
    }
   ],
   "source": [
    ">>> not 0"
   ]
  },
  {
   "cell_type": "code",
   "execution_count": 51,
   "id": "6efb7cea",
   "metadata": {},
   "outputs": [
    {
     "data": {
      "text/plain": [
       "1"
      ]
     },
     "execution_count": 51,
     "metadata": {},
     "output_type": "execute_result"
    }
   ],
   "source": [
    ">>> (1 + 1) and 1"
   ]
  },
  {
   "cell_type": "code",
   "execution_count": 52,
   "id": "f0879fea",
   "metadata": {},
   "outputs": [
    {
     "ename": "ZeroDivisionError",
     "evalue": "division by zero",
     "output_type": "error",
     "traceback": [
      "\u001b[0;31m---------------------------------------------------------------------------\u001b[0m",
      "\u001b[0;31mZeroDivisionError\u001b[0m                         Traceback (most recent call last)",
      "\u001b[0;32m/var/folders/gd/ldv13fss0nzclxwbh4lsvzg00000gn/T/ipykernel_3740/1724463637.py\u001b[0m in \u001b[0;36m<module>\u001b[0;34m\u001b[0m\n\u001b[0;32m----> 1\u001b[0;31m \u001b[0;36m1\u001b[0m\u001b[0;34m/\u001b[0m\u001b[0;36m0\u001b[0m \u001b[0;32mor\u001b[0m \u001b[0;32mTrue\u001b[0m\u001b[0;34m\u001b[0m\u001b[0;34m\u001b[0m\u001b[0m\n\u001b[0m",
      "\u001b[0;31mZeroDivisionError\u001b[0m: division by zero"
     ]
    }
   ],
   "source": [
    ">>> 1/0 or True"
   ]
  },
  {
   "cell_type": "code",
   "execution_count": 53,
   "id": "d007612c",
   "metadata": {},
   "outputs": [
    {
     "data": {
      "text/plain": [
       "False"
      ]
     },
     "execution_count": 53,
     "metadata": {},
     "output_type": "execute_result"
    }
   ],
   "source": [
    ">>> (True or False) and False"
   ]
  },
  {
   "cell_type": "markdown",
   "id": "745bc2c0",
   "metadata": {},
   "source": [
    "**Q3: Notes on debugging**\n",
    "\n"
   ]
  },
  {
   "cell_type": "markdown",
   "id": "16fa72c0",
   "metadata": {},
   "source": [
    "\n",
    "##### 1. Running doctests\n",
    "Python has a great way to quickly write tests for your code. These are called doctests, and look like this:\n",
    "\n",
    "def foo(x):\n",
    "\n",
    "    \"\"\"A random function.\n",
    "\n",
    "    >>> foo(4)\n",
    "    4\n",
    "    >>> foo(5)\n",
    "    5\n",
    "    \"\"\"\n",
    "    \n",
    "The lines in the docstring that look like interpreter outputs are the doctests. To run them, go to your terminal and type:\n",
    "\n",
    "*python3 -m doctest file.py*\n",
    "\n",
    "\n",
    "This effectively loads your file into the Python interpreter, and checks to see if each doctest input (e.g. foo(4)) is the same as the specified output (e.g. 4). If it isn't, a message will tell you which doctests you failed.\n",
    "\n",
    "The command line tool has a -v option that stands for verbose.\n",
    "\n",
    "*python3 -m doctest file.py -v*\n",
    "\n",
    "In addition to telling you which doctests you failed, it will also tell you which doctests passed.\n",
    "\n",
    "Usually, we will provide doctests for you in the starter files. You can add more tests by following the same format. It is often helpful to write additional tests to uncover more details about the shape of the inputs and the expected outputs of the problem, in addition to helping with the implementation of the program itself. A little time spent upfront writing tests can save a lot of time down the line.\n",
    "\n",
    "\n",
    "##### 2. Using print statements\n",
    "\n",
    "\n",
    "def foo(x):\n",
    "\n",
    "    result = some_function(x)\n",
    "    \n",
    "    print('DEBUG: result is', result)\n",
    "    \n",
    "    return other_function(result)\n",
    "\n",
    "[ Some advice: ]\n",
    "\n",
    "- Don't just print out a variable -- add some sort of message to make it easier for you to read:\n",
    "\n",
    "    **not** \n",
    "    \n",
    "    print(tmp)   # harder to keep track\n",
    "    \n",
    "    **yes** \n",
    "    \n",
    "    print('DEBUG: tmp was this:', tmp)  # easier\n",
    "\n",
    "\n",
    "- Use print statements to view the results of function calls (i.e. after function calls).\n",
    "\n",
    "\n",
    "- Use print statements at the end of a while loop to view the state of the counter variables after each iteration:\n",
    "\n",
    "    i = 0\n",
    "    \n",
    "    while i < n:\n",
    "        i += func(i)\n",
    "        print('DEBUG: i is', i)\n",
    "\n",
    "    \n",
    "- Don't just put random print statements after lines that are obviously correct."
   ]
  },
  {
   "cell_type": "markdown",
   "id": "b160168c",
   "metadata": {},
   "source": [
    "**Q4: Falling Factorial**\n",
    "\n",
    "Let's write a function falling, which is a \"falling\" factorial that takes two arguments, n and k, and returns the product of k consecutive numbers, starting from n and working downwards. When k is 0, the function should return 1."
   ]
  },
  {
   "cell_type": "code",
   "execution_count": 10,
   "id": "8da3a543",
   "metadata": {},
   "outputs": [],
   "source": [
    "def falling(n, k):\n",
    "    \"\"\"Compute the falling factorial of n to depth k.\n",
    "\n",
    "    >>> falling(6, 3)  # 6 * 5 * 4\n",
    "    120\n",
    "    >>> falling(4, 3)  # 4 * 3 * 2\n",
    "    24\n",
    "    >>> falling(4, 1)  # 4\n",
    "    4\n",
    "    >>> falling(4, 0)\n",
    "    1\n",
    "    \"\"\"\n",
    "    \"*** YOUR CODE HERE ***\"\n",
    "    from math import factorial \n",
    "    if k!=0:\n",
    "        return factorial(n)/factorial(n-k)\n",
    "    else:\n",
    "        return 1\n",
    "    "
   ]
  },
  {
   "cell_type": "code",
   "execution_count": 13,
   "id": "e67f393f",
   "metadata": {},
   "outputs": [
    {
     "data": {
      "text/plain": [
       "1"
      ]
     },
     "execution_count": 13,
     "metadata": {},
     "output_type": "execute_result"
    }
   ],
   "source": [
    "falling(6, 3)  # 6 * 5 * 4\n",
    "falling(4, 0)"
   ]
  },
  {
   "cell_type": "markdown",
   "id": "e60200c1",
   "metadata": {},
   "source": [
    "**Q5: Sum Digits**\n",
    "\n",
    "Write a function that takes in a nonnegative integer and sums its digits. (Using floor division and modulo might be helpful here!)"
   ]
  },
  {
   "cell_type": "code",
   "execution_count": 20,
   "id": "a9e0d71d",
   "metadata": {},
   "outputs": [],
   "source": [
    "def sum_digits(y):\n",
    "    \"\"\"Sum all the digits of y.\n",
    "\n",
    "    >>> sum_digits(10) # 1 + 0 = 1\n",
    "    1\n",
    "    >>> sum_digits(4224) # 4 + 2 + 2 + 4 = 12\n",
    "    12\n",
    "    >>> sum_digits(1234567890)\n",
    "    45\n",
    "    >>> a = sum_digits(123) # make sure that you are using return rather than print\n",
    "    >>> a\n",
    "    6\n",
    "    \"\"\"\n",
    "    \"*** YOUR CODE HERE ***\"\n",
    "    sum=0\n",
    "    for i in str(y):\n",
    "        sum+=int(i)\n",
    "    return sum\n",
    "    \n",
    "    "
   ]
  },
  {
   "cell_type": "code",
   "execution_count": 22,
   "id": "7c416fdf",
   "metadata": {},
   "outputs": [
    {
     "data": {
      "text/plain": [
       "12"
      ]
     },
     "execution_count": 22,
     "metadata": {},
     "output_type": "execute_result"
    }
   ],
   "source": [
    "sum_digits(4224)"
   ]
  },
  {
   "cell_type": "code",
   "execution_count": null,
   "id": "f72f2533",
   "metadata": {},
   "outputs": [],
   "source": []
  },
  {
   "cell_type": "code",
   "execution_count": null,
   "id": "df036af6",
   "metadata": {},
   "outputs": [],
   "source": []
  },
  {
   "cell_type": "code",
   "execution_count": null,
   "id": "f28c3792",
   "metadata": {},
   "outputs": [],
   "source": []
  }
 ],
 "metadata": {
  "kernelspec": {
   "display_name": "Python 3 (ipykernel)",
   "language": "python",
   "name": "python3"
  },
  "language_info": {
   "codemirror_mode": {
    "name": "ipython",
    "version": 3
   },
   "file_extension": ".py",
   "mimetype": "text/x-python",
   "name": "python",
   "nbconvert_exporter": "python",
   "pygments_lexer": "ipython3",
   "version": "3.9.6"
  }
 },
 "nbformat": 4,
 "nbformat_minor": 5
}
