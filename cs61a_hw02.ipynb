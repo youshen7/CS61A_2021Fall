{
 "cells": [
  {
   "cell_type": "markdown",
   "id": "0a04ae64",
   "metadata": {},
   "source": [
    "**Q1: Product**\n",
    "\n",
    "The summation(n, term) function from the higher-order functions lecture adds up term(1) + ... + term(n). Write a similar function called product that returns term(1) * ... * term(n).\n",
    "\n"
   ]
  },
  {
   "cell_type": "code",
   "execution_count": 1,
   "id": "7bff6f91",
   "metadata": {},
   "outputs": [],
   "source": [
    "from operator import add, mul\n",
    "\n",
    "square = lambda x: x * x\n",
    "\n",
    "identity = lambda x: x\n",
    "\n",
    "triple = lambda x: 3 * x\n",
    "\n",
    "increment = lambda x: x + 1"
   ]
  },
  {
   "cell_type": "code",
   "execution_count": 4,
   "id": "97918829",
   "metadata": {},
   "outputs": [],
   "source": [
    "def product(n, term):\n",
    "    \"\"\"Return the product of the first n terms in a sequence.\n",
    "\n",
    "    n: a positive integer\n",
    "    term:  a function that takes one argument to produce the term\n",
    "\n",
    "    >>> product(3, identity)  # 1 * 2 * 3\n",
    "    6\n",
    "    >>> product(5, identity)  # 1 * 2 * 3 * 4 * 5\n",
    "    120\n",
    "    >>> product(3, square)    # 1^2 * 2^2 * 3^2\n",
    "    36\n",
    "    >>> Q2: Accumulate\n",
    "Let's take a look at how summation and product are instances of a more general function called accumulate, which we would like to implement:    # 1^2 * 2^2 * 3^2 * 4^2 * 5^2\n",
    "    14400\n",
    "    >>> product(3, increment) # (1+1) * (2+1) * (3+1)\n",
    "    24\n",
    "    >>> product(3, triple)    # 1*3 * 2*3 * 3*3\n",
    "    162\n",
    "    \"\"\"\n",
    "    \"*** YOUR CODE HERE ***\"\n",
    "    multi=1\n",
    "    foo=term\n",
    "    for i in range(1,n+1):\n",
    "        multi=multi*foo(i)\n",
    "    return multi"
   ]
  },
  {
   "cell_type": "code",
   "execution_count": 7,
   "id": "7cc3fd9a",
   "metadata": {},
   "outputs": [
    {
     "data": {
      "text/plain": [
       "14400"
      ]
     },
     "execution_count": 7,
     "metadata": {},
     "output_type": "execute_result"
    }
   ],
   "source": [
    "product(5, square)"
   ]
  },
  {
   "cell_type": "markdown",
   "id": "6b4d1e2c",
   "metadata": {},
   "source": [
    "**Q2: Accumulate**\n",
    "\n",
    "Let's take a look at how summation and product are instances of a more general function called accumulate, which we would like to implement:"
   ]
  },
  {
   "cell_type": "code",
   "execution_count": 14,
   "id": "ab5b4619",
   "metadata": {},
   "outputs": [],
   "source": [
    "def accumulate(merger, base, n, term):\n",
    "    \"\"\"Return the result of merging the first n terms in a sequence and base.\n",
    "    The terms to be merged are term(1), term(2), ..., term(n). merger is a\n",
    "    two-argument commutative function.\n",
    "\n",
    "    >>> accumulate(add, 0, 5, identity)  # 0 + 1 + 2 + 3 + 4 + 5\n",
    "    15\n",
    "    >>> accumulate(add, 11, 5, identity) # 11 + 1 + 2 + 3 + 4 + 5\n",
    "    26\n",
    "    >>> accumulate(add, 11, 0, identity) # 11\n",
    "    11\n",
    "    >>> accumulate(add, 11, 3, square)   # 11 + 1^2 + 2^2 + 3^2\n",
    "    25\n",
    "    >>> accumulate(mul, 2, 3, square)    # 2 * 1^2 * 2^2 * 3^2\n",
    "    72\n",
    "    >>> # 2 + (1^2 + 1) + (2^2 + 1) + (3^2 + 1)\n",
    "    >>> accumulate(lambda x, y: x + y + 1, 2, 3, square)\n",
    "    19\n",
    "    >>> # ((2 * 1^2 * 2) * 2^2 * 2) * 3^2 * 2\n",
    "    >>> accumulate(lambda x, y: 2 * x * y, 2, 3, square)\n",
    "    576\n",
    "    >>> accumulate(lambda x, y: (x + y) % 17, 19, 20, square)\n",
    "    16\n",
    "    \"\"\"\n",
    "    \"*** YOUR CODE HERE ***\"\n",
    "    result=base\n",
    "    term_foo=term\n",
    "    merger_foo=merger\n",
    "    for i in range(1,n+1):\n",
    "        result=merger_foo(result,term_foo(i))\n",
    "    return result\n",
    "    \n",
    "    "
   ]
  },
  {
   "cell_type": "markdown",
   "id": "69e0d45e",
   "metadata": {},
   "source": [
    "accumulate has the following parameters:\n",
    "\n",
    "term and n: the same parameters as in summation and product\n",
    "merger: a two-argument function that specifies how the current term is merged with the previously accumulated terms.\n",
    "base: value at which to start the accumulation.\n",
    "\n",
    "For example, the result of accumulate(add, 11, 3, square) is\n",
    "\n",
    "11 + square(1) + square(2) + square(3) = 25"
   ]
  },
  {
   "cell_type": "code",
   "execution_count": 17,
   "id": "e1b6d2e4",
   "metadata": {
    "scrolled": true
   },
   "outputs": [
    {
     "data": {
      "text/plain": [
       "576"
      ]
     },
     "execution_count": 17,
     "metadata": {},
     "output_type": "execute_result"
    }
   ],
   "source": [
    "#test#\n",
    "accumulate(lambda x, y: 2 * x * y, 2, 3, square)"
   ]
  },
  {
   "cell_type": "markdown",
   "id": "b27780b8",
   "metadata": {},
   "source": [
    "**Important**\n",
    "You should have a single line of code (which should be a return statement) in each of your implementations for summation_using_accumulate and product_using_accumulate, which the syntax check will check for."
   ]
  },
  {
   "cell_type": "code",
   "execution_count": 18,
   "id": "25d32cb7",
   "metadata": {},
   "outputs": [],
   "source": [
    "def summation_using_accumulate(n, term):\n",
    "    \"\"\"Returns the sum: term(1) + ... + term(n), using accumulate.\n",
    "\n",
    "    >>> summation_using_accumulate(5, square)\n",
    "    55\n",
    "    >>> summation_using_accumulate(5, triple)\n",
    "    45\n",
    "    \"\"\"\n",
    "    \"*** YOUR CODE HERE ***\"\n",
    "    return accumulate(add, 1, n, term)\n",
    "\n"
   ]
  },
  {
   "cell_type": "code",
   "execution_count": 21,
   "id": "a0637de8",
   "metadata": {},
   "outputs": [
    {
     "data": {
      "text/plain": [
       "56"
      ]
     },
     "execution_count": 21,
     "metadata": {},
     "output_type": "execute_result"
    }
   ],
   "source": [
    "#test\n",
    "summation_using_accumulate(5, square)"
   ]
  },
  {
   "cell_type": "code",
   "execution_count": 19,
   "id": "1c072889",
   "metadata": {},
   "outputs": [],
   "source": [
    "def product_using_accumulate(n, term):\n",
    "    \"\"\"Returns the product: term(1) * ... * term(n), using accumulate.\n",
    "\n",
    "    >>> product_using_accumulate(4, square)\n",
    "    576\n",
    "    >>> product_using_accumulate(6, triple)\n",
    "    524880\n",
    "    \"\"\"\n",
    "    \"*** YOUR CODE HERE ***\"\n",
    "    return accumulate(mul, 1, n, term)"
   ]
  },
  {
   "cell_type": "code",
   "execution_count": 22,
   "id": "af04a522",
   "metadata": {},
   "outputs": [
    {
     "data": {
      "text/plain": [
       "576"
      ]
     },
     "execution_count": 22,
     "metadata": {},
     "output_type": "execute_result"
    }
   ],
   "source": [
    "#test\n",
    "product_using_accumulate(4, square)"
   ]
  },
  {
   "cell_type": "code",
   "execution_count": null,
   "id": "ec6f5fbf",
   "metadata": {},
   "outputs": [],
   "source": []
  }
 ],
 "metadata": {
  "kernelspec": {
   "display_name": "Python 3 (ipykernel)",
   "language": "python",
   "name": "python3"
  },
  "language_info": {
   "codemirror_mode": {
    "name": "ipython",
    "version": 3
   },
   "file_extension": ".py",
   "mimetype": "text/x-python",
   "name": "python",
   "nbconvert_exporter": "python",
   "pygments_lexer": "ipython3",
   "version": "3.9.6"
  }
 },
 "nbformat": 4,
 "nbformat_minor": 5
}
