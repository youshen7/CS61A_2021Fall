{
 "cells": [
  {
   "cell_type": "markdown",
   "id": "2643cbcc",
   "metadata": {},
   "source": [
    "**Q2: A Plus Abs B**\n",
    "\n",
    "Fill in the blanks in the following function for adding a to the absolute value of b, without calling abs. You may not modify any of the provided code other than the two blanks.\n"
   ]
  },
  {
   "cell_type": "code",
   "execution_count": 1,
   "id": "ad1ca66f",
   "metadata": {},
   "outputs": [],
   "source": [
    "def a_plus_abs_b(a, b):\n",
    "    \"\"\"Return a+abs(b), but without calling abs.\n",
    "\n",
    "    >>> a_plus_abs_b(2, 3)\n",
    "    5\n",
    "    >>> a_plus_abs_b(2, -3)\n",
    "    5\n",
    "    \"\"\"\n",
    "    if b < 0:\n",
    "        f = a-b\n",
    "    else:\n",
    "        f = a+b\n",
    "    return f(a, b)"
   ]
  },
  {
   "cell_type": "markdown",
   "id": "6a108b90",
   "metadata": {},
   "source": [
    "**Q3: Two of Three**\n",
    "\n",
    "Write a function that takes three positive numbers as arguments and returns the sum of the squares of the two smallest numbers. Use only a single line for the body of the function.\n"
   ]
  },
  {
   "cell_type": "code",
   "execution_count": 2,
   "id": "38a00403",
   "metadata": {},
   "outputs": [],
   "source": [
    "def two_of_three(x, y, z):\n",
    "    \"\"\"Return a*a + b*b, where a and b are the two smallest members of the\n",
    "    positive numbers x, y, and z.\n",
    "\n",
    "    >>> two_of_three(1, 2, 3)\n",
    "    5\n",
    "    >>> two_of_three(5, 3, 1)\n",
    "    10\n",
    "    >>> two_of_three(10, 2, 8)\n",
    "    68\n",
    "    >>> two_of_three(5, 5, 5)\n",
    "    50\n",
    "    \"\"\"\n",
    "    Max=max(x,y,z)\n",
    "    return x*x+y*y+z*z-Max*Max"
   ]
  },
  {
   "cell_type": "code",
   "execution_count": 5,
   "id": "a12ed4ff",
   "metadata": {},
   "outputs": [
    {
     "data": {
      "text/plain": [
       "68"
      ]
     },
     "execution_count": 5,
     "metadata": {},
     "output_type": "execute_result"
    }
   ],
   "source": [
    "#test\n",
    "two_of_three(1, 2, 3)\n",
    "two_of_three(10, 2, 8)"
   ]
  },
  {
   "cell_type": "markdown",
   "id": "d4700d00",
   "metadata": {},
   "source": [
    "**Q4: Largest Factor**\n",
    "    \n",
    "Write a function that takes an integer n that is greater than 1 and returns the largest integer that is smaller than n and evenly divides n.\n"
   ]
  },
  {
   "cell_type": "code",
   "execution_count": 21,
   "id": "66e6723f",
   "metadata": {},
   "outputs": [],
   "source": [
    "def largest_factor(n):\n",
    "    \"\"\"Return the largest factor of n that is smaller than n.\n",
    "\n",
    "    >>> largest_factor(15) # factors are 1, 3, 5\n",
    "    5\n",
    "    >>> largest_factor(80) # factors are 1, 2, 4, 5, 8, 10, 16, 20, 40\n",
    "    40\n",
    "    >>> largest_factor(13) # factor is 1 since 13 is prime\n",
    "    1\n",
    "    \"\"\"\n",
    "    \"*** YOUR CODE HERE ***\"\n",
    "    for i in range(1,n):\n",
    "        if n%i==0:\n",
    "            factor = i\n",
    "    return factor"
   ]
  },
  {
   "cell_type": "code",
   "execution_count": 26,
   "id": "c40bd7ac",
   "metadata": {},
   "outputs": [
    {
     "data": {
      "text/plain": [
       "1"
      ]
     },
     "execution_count": 26,
     "metadata": {},
     "output_type": "execute_result"
    }
   ],
   "source": [
    "##test\n",
    "largest_factor(15)\n",
    "largest_factor(80)\n",
    "largest_factor(13)"
   ]
  },
  {
   "cell_type": "markdown",
   "id": "f28fb1bf",
   "metadata": {},
   "source": [
    "**Q5: If Function Refactor**\n",
    "\n",
    "Here are two functions that have a similar structure. In both, if prevents a ZeroDivisionError when x is 0.\n"
   ]
  },
  {
   "cell_type": "code",
   "execution_count": 27,
   "id": "9d816f54",
   "metadata": {},
   "outputs": [],
   "source": [
    "def invert(x, limit):\n",
    "    \"\"\"Return 1/x, but with a limit.\n",
    "\n",
    "    >>> x = 0.2\n",
    "    >>> 1/x\n",
    "    5.0\n",
    "    >>> invert(x, 100)\n",
    "    5.0\n",
    "    >>> invert(x, 2)    # 2 is smaller than 5\n",
    "    2\n",
    "\n",
    "    >>> x = 0\n",
    "    >>> invert(x, 100)  # No error, even though 1/x divides by 0!\n",
    "    100\n",
    "    \"\"\"\n",
    "    if x != 0:\n",
    "        return min(1/x, limit)\n",
    "    else:\n",
    "        return limit\n",
    "\n",
    "def change(x, y, limit):\n",
    "    \"\"\"Return abs(y - x) as a fraction of x, but with a limit.\n",
    "\n",
    "    >>> x, y = 2, 5\n",
    "    >>> abs(y - x) / x\n",
    "    1.5\n",
    "    >>> change(x, y, 100)\n",
    "    1.5\n",
    "    >>> change(x, y, 1)    # 1 is smaller than 1.5\n",
    "    1\n",
    "\n",
    "    >>> x = 0\n",
    "    >>> change(x, y, 100)  # No error, even though abs(y - x) / x divides by 0!\n",
    "    100\n",
    "    \"\"\"\n",
    "    if x != 0:\n",
    "        return min(abs(y - x) / x, limit)\n",
    "    else:\n",
    "        return limit"
   ]
  },
  {
   "cell_type": "code",
   "execution_count": 44,
   "id": "d0686a18",
   "metadata": {},
   "outputs": [
    {
     "data": {
      "text/plain": [
       "100"
      ]
     },
     "execution_count": 44,
     "metadata": {},
     "output_type": "execute_result"
    }
   ],
   "source": [
    "invert(0, 100)"
   ]
  },
  {
   "cell_type": "code",
   "execution_count": 43,
   "id": "1f015c9d",
   "metadata": {},
   "outputs": [],
   "source": [
    "def invert(x, limit):\n",
    "\n",
    "    if x != 0:\n",
    "        return min(1/x, limit)\n",
    "    else:\n",
    "        return limit"
   ]
  },
  {
   "cell_type": "code",
   "execution_count": 59,
   "id": "6913f0e5",
   "metadata": {},
   "outputs": [],
   "source": [
    "def limited(x, z, limit):\n",
    "    if x != 0:\n",
    "        return min(z, limit)\n",
    "    else:\n",
    "        return limit\n",
    "\n",
    "def invert_short(x, limit):\n",
    "    \n",
    "    return limited(x, z, limit)"
   ]
  },
  {
   "cell_type": "code",
   "execution_count": 61,
   "id": "cec162f7",
   "metadata": {
    "scrolled": true
   },
   "outputs": [
    {
     "ename": "ZeroDivisionError",
     "evalue": "division by zero",
     "output_type": "error",
     "traceback": [
      "\u001b[0;31m---------------------------------------------------------------------------\u001b[0m",
      "\u001b[0;31mZeroDivisionError\u001b[0m                         Traceback (most recent call last)",
      "\u001b[0;32m/var/folders/gd/ldv13fss0nzclxwbh4lsvzg00000gn/T/ipykernel_1579/2064202300.py\u001b[0m in \u001b[0;36m<module>\u001b[0;34m\u001b[0m\n\u001b[1;32m      1\u001b[0m \u001b[0mx\u001b[0m\u001b[0;34m=\u001b[0m\u001b[0;36m0\u001b[0m\u001b[0;34m\u001b[0m\u001b[0;34m\u001b[0m\u001b[0m\n\u001b[0;32m----> 2\u001b[0;31m \u001b[0minvert_short\u001b[0m\u001b[0;34m(\u001b[0m\u001b[0mx\u001b[0m\u001b[0;34m,\u001b[0m\u001b[0;36m1\u001b[0m\u001b[0;34m/\u001b[0m\u001b[0mx\u001b[0m\u001b[0;34m,\u001b[0m\u001b[0mlimit\u001b[0m\u001b[0;34m=\u001b[0m\u001b[0;36m100\u001b[0m\u001b[0;34m)\u001b[0m\u001b[0;34m\u001b[0m\u001b[0;34m\u001b[0m\u001b[0m\n\u001b[0m",
      "\u001b[0;31mZeroDivisionError\u001b[0m: division by zero"
     ]
    }
   ],
   "source": [
    "x=0\n",
    "invert_short(x,1/x,limit=100)"
   ]
  },
  {
   "cell_type": "markdown",
   "id": "9b6c8b4c",
   "metadata": {},
   "source": [
    "To \"refactor\" a program means to rewrite it so that it has the same behavior but with some change to the design. Below is an attempt to refactor both functions to have short one-line definitions by defining a new function limited that contains their common structure.\n",
    "\n"
   ]
  },
  {
   "cell_type": "code",
   "execution_count": 39,
   "id": "d2fedee8",
   "metadata": {},
   "outputs": [],
   "source": [
    "def limited(x, z, limit):\n",
    "    \"\"\"Logic that is common to invert and change.\"\"\"\n",
    "    if x != 0:\n",
    "        return min(z, limit)\n",
    "    else:\n",
    "        return limit\n",
    "\n",
    "def invert_short(x, limit):\n",
    "    \"\"\"Return 1/x, but with a limit.\n",
    "\n",
    "    >>> x = 0.2\n",
    "    >>> 1/x\n",
    "    5.0\n",
    "    >>> invert_short(x, 100)\n",
    "    5.0\n",
    "    >>> invert_short(x, 2)    # 2 is smaller than 5\n",
    "    2\n",
    "\n",
    "    >>> x = 0\n",
    "    >>> invert_short(x, 100)  # No error, even though 1/x divides by 0!\n",
    "    100\n",
    "    \"\"\"\n",
    "    result=limited(x, 1/x, limit)\n",
    "    return result\n",
    "\n",
    "def change_short(x, y, limit):\n",
    "    \"\"\"Return abs(y - x) as a fraction of x, but with a limit.\n",
    "\n",
    "    >>> x, y = 2, 5\n",
    "    >>> abs(y - x) / x\n",
    "    1.5\n",
    "    >>> change_short(x, y, 100)\n",
    "    1.5\n",
    "    >>> change_short(x, y, 1)    # 1 is smaller than 1.5\n",
    "    1\n",
    "\n",
    "    >>> x = 0\n",
    "    >>> change_short(x, y, 100)  # No error, even though abs(y - x) / x divides by 0!\n",
    "    100\n",
    "    \"\"\"\n",
    "    return limited(x, abs(y - x) / x, limit)"
   ]
  },
  {
   "cell_type": "code",
   "execution_count": 42,
   "id": "a90bd19e",
   "metadata": {},
   "outputs": [
    {
     "ename": "ZeroDivisionError",
     "evalue": "division by zero",
     "output_type": "error",
     "traceback": [
      "\u001b[0;31m---------------------------------------------------------------------------\u001b[0m",
      "\u001b[0;31mZeroDivisionError\u001b[0m                         Traceback (most recent call last)",
      "\u001b[0;32m/var/folders/gd/ldv13fss0nzclxwbh4lsvzg00000gn/T/ipykernel_1579/1974673326.py\u001b[0m in \u001b[0;36m<module>\u001b[0;34m\u001b[0m\n\u001b[0;32m----> 1\u001b[0;31m \u001b[0mlimited\u001b[0m\u001b[0;34m(\u001b[0m\u001b[0;36m0\u001b[0m\u001b[0;34m,\u001b[0m \u001b[0;36m1\u001b[0m\u001b[0;34m/\u001b[0m\u001b[0mx\u001b[0m\u001b[0;34m,\u001b[0m\u001b[0;36m100\u001b[0m\u001b[0;34m)\u001b[0m\u001b[0;34m\u001b[0m\u001b[0;34m\u001b[0m\u001b[0m\n\u001b[0m\u001b[1;32m      2\u001b[0m \u001b[0;31m#x=0\u001b[0m\u001b[0;34m\u001b[0m\u001b[0;34m\u001b[0m\u001b[0;34m\u001b[0m\u001b[0m\n\u001b[1;32m      3\u001b[0m \u001b[0;31m#change_short(x, 5, 100)\u001b[0m\u001b[0;34m\u001b[0m\u001b[0;34m\u001b[0m\u001b[0;34m\u001b[0m\u001b[0m\n",
      "\u001b[0;31mZeroDivisionError\u001b[0m: division by zero"
     ]
    }
   ],
   "source": [
    "limited(0, 1/x,100)\n",
    "x=0\n",
    "#change_short(x, 5, 100)"
   ]
  },
  {
   "cell_type": "code",
   "execution_count": 33,
   "id": "9d94b9ed",
   "metadata": {},
   "outputs": [
    {
     "data": {
      "text/plain": [
       "100"
      ]
     },
     "execution_count": 33,
     "metadata": {},
     "output_type": "execute_result"
    }
   ],
   "source": [
    "invert(0, 100)"
   ]
  },
  {
   "cell_type": "markdown",
   "id": "9920f05a",
   "metadata": {},
   "source": [
    "There's a problem with this refactored code! Try invert_short(0, 100) and see. It causes a ZeroDivisionError while invert(0, 100) did not.\n",
    "\n",
    "1. Your first job is to understand why the behavior changed. \n",
    "\n",
    "In invert, division by x only happens when x is not 0, but in invert_short it always happens. Read the rules of evaluation for if statements and call expressions to see why.\n",
    "\n",
    "\n",
    "*because 1/x is shown as the input of the limited function while x=0*\n",
    "\n",
    "2. Your second job is to edit invert_short and change_short \n",
    "\n",
    "so that they have the same behavior as invert and change but still have just one line each. You will also need to edit limited. You don't need to use and or or or if in invert; just pay attention to when the division takes place."
   ]
  },
  {
   "cell_type": "markdown",
   "id": "80ae9179",
   "metadata": {},
   "source": [
    "**Q6: Hailstone**\n",
    "\n",
    "Douglas Hofstadter's Pulitzer-prize-winning book, Gödel, Escher, Bach, poses the following mathematical puzzle.\n",
    "\n",
    "\n",
    "Pick a positive integer n as the start.\n",
    "If n is even, divide it by 2.\n",
    "If n is odd, multiply it by 3 and add 1.\n",
    "Continue this process until n is 1.\n",
    "The number n will travel up and down but eventually end at 1 (at least for all numbers that have ever been tried -- nobody has ever proved that the sequence will terminate). Analogously, a hailstone travels up and down in the atmosphere before eventually landing on earth.\n",
    "\n",
    "This sequence of values of n is often called a Hailstone sequence. Write a function that takes a single argument with formal parameter name n, prints out the hailstone sequence starting at n, and returns the number of steps in the sequence:\n",
    "\n"
   ]
  },
  {
   "cell_type": "code",
   "execution_count": 23,
   "id": "1b3e7328",
   "metadata": {},
   "outputs": [],
   "source": [
    "def hailstone(n):\n",
    "    \"\"\"Print the hailstone sequence starting at n and return its\n",
    "    length.\n",
    "\n",
    "    >>> a = hailstone(10)\n",
    "    10\n",
    "    5\n",
    "    16\n",
    "    8\n",
    "    4\n",
    "    2\n",
    "    1\n",
    "    >>> a\n",
    "    7\n",
    "    \"\"\"\n",
    "    \"*** YOUR CODE HERE ***\"\n",
    "    print(n)\n",
    "    i=1\n",
    "    while n !=1:\n",
    "        \n",
    "        if n%2==0:\n",
    "            n=n/2\n",
    "            i+=1\n",
    "        else:\n",
    "            n=3*n+1\n",
    "            i+=1\n",
    "        print(n)\n",
    "    return i \n",
    "        "
   ]
  },
  {
   "cell_type": "code",
   "execution_count": 26,
   "id": "228c6fe8",
   "metadata": {},
   "outputs": [
    {
     "name": "stdout",
     "output_type": "stream",
     "text": [
      "10\n",
      "5.0\n",
      "16.0\n",
      "8.0\n",
      "4.0\n",
      "2.0\n",
      "1.0\n"
     ]
    },
    {
     "data": {
      "text/plain": [
       "7"
      ]
     },
     "execution_count": 26,
     "metadata": {},
     "output_type": "execute_result"
    }
   ],
   "source": [
    "hailstone(10)"
   ]
  }
 ],
 "metadata": {
  "kernelspec": {
   "display_name": "Python 3 (ipykernel)",
   "language": "python",
   "name": "python3"
  },
  "language_info": {
   "codemirror_mode": {
    "name": "ipython",
    "version": 3
   },
   "file_extension": ".py",
   "mimetype": "text/x-python",
   "name": "python",
   "nbconvert_exporter": "python",
   "pygments_lexer": "ipython3",
   "version": "3.9.6"
  }
 },
 "nbformat": 4,
 "nbformat_minor": 5
}
